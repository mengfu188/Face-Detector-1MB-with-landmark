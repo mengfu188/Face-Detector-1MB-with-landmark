{
 "cells": [
  {
   "cell_type": "code",
   "execution_count": 1,
   "metadata": {},
   "outputs": [],
   "source": [
    "from cpu import *\n",
    "from easydict import EasyDict as edict\n",
    "import time\n",
    "import pandas as pd"
   ]
  },
  {
   "cell_type": "code",
   "execution_count": 2,
   "metadata": {},
   "outputs": [],
   "source": [
    "args = edict(\n",
    "    trained_model = 'checkpoint/RFB-RAW/RFB_Final.pth',\n",
    "network = 'RFB',\n",
    "long_side = 320,\n",
    "cpu = True,\n",
    "    )"
   ]
  },
  {
   "cell_type": "code",
   "execution_count": 3,
   "metadata": {},
   "outputs": [
    {
     "name": "stdout",
     "output_type": "stream",
     "text": [
      "Loading pretrained model from checkpoint/RFB-RAW/RFB_Final.pth\n",
      "remove prefix 'module.'\n",
      "Missing keys:0\n",
      "Unused checkpoint keys:0\n",
      "Used keys:258\n"
     ]
    }
   ],
   "source": [
    "#     args = get_args()\n",
    "torch.set_grad_enabled(False)\n",
    "\n",
    "cfg = None\n",
    "net = None\n",
    "if args.network == \"mobile0.25\":\n",
    "    cfg = cfg_mnet\n",
    "    net = RetinaFace(cfg = cfg, phase = 'test')\n",
    "elif args.network == \"slim\":\n",
    "    cfg = cfg_slim\n",
    "    net = Slim(cfg = cfg, phase = 'test')\n",
    "elif args.network == \"RFB\":\n",
    "    cfg = cfg_rfb\n",
    "    net = RFB(cfg = cfg, phase = 'test')\n",
    "else:\n",
    "    print(\"Don't support network!\")\n",
    "    exit(0)\n",
    "\n",
    "# load weight\n",
    "net = load_model(net, args.trained_model, args.cpu)\n",
    "net.eval()\n",
    "# print('Finished loading model!')\n",
    "# print(net)\n",
    "device = torch.device(\"cpu\" if args.cpu else \"cuda\")\n",
    "net = net.to(device)\n",
    "\n",
    "data = torch.ones((1,3,args.long_side, args.long_side), dtype=torch.float32)"
   ]
  },
  {
   "cell_type": "code",
   "execution_count": 4,
   "metadata": {},
   "outputs": [
    {
     "name": "stdout",
     "output_type": "stream",
     "text": [
      "forward cost 0.016282804012298584 ms\n"
     ]
    }
   ],
   "source": [
    "# hot\n",
    "loop_count = 100\n",
    "for i in range(10):\n",
    "    net(data)\n",
    "\n",
    "tic = time.time()\n",
    "for i in range(loop_count):\n",
    "    net(data)\n",
    "print(f'forward cost {(time.time() - tic) / loop_count} ms')\n",
    "    "
   ]
  },
  {
   "cell_type": "code",
   "execution_count": 5,
   "metadata": {},
   "outputs": [
    {
     "data": {
      "text/plain": [
       "tensor(0.5026)"
      ]
     },
     "execution_count": 5,
     "metadata": {},
     "output_type": "execute_result"
    }
   ],
   "source": [
    "total = 0\n",
    "small = 0\n",
    "a = []\n",
    "for i in net.parameters():\n",
    "#     print(i.shape, (i < 1e-8).sum(), i.nelement(), (i < 1e-8).sum() * 1.0 / i.nelement(), (i==0).sum())\n",
    "#     i[i<1e-8] = 0\n",
    "#     print(i.shape, (i < 1e-8).sum(), i.nelement(), (i < 1e-8).sum() * 1.0 / i.nelement(), (i==0).sum())\n",
    "#     i.\n",
    "    a.extend(i.flatten().detach().numpy().tolist())\n",
    "    total += i.nelement()\n",
    "    small += (i < 1e-8).sum() * 1.0\n",
    "small / total"
   ]
  },
  {
   "cell_type": "code",
   "execution_count": 11,
   "metadata": {},
   "outputs": [
    {
     "data": {
      "text/plain": [
       "<matplotlib.axes._subplots.AxesSubplot at 0x7fcfd9c69358>"
      ]
     },
     "execution_count": 11,
     "metadata": {},
     "output_type": "execute_result"
    },
    {
     "data": {
      "image/png": "[encoded data removed]",
      "text/plain": [
       "<Figure size 432x288 with 1 Axes>"
      ]
     },
     "metadata": {
      "needs_background": "light"
     },
     "output_type": "display_data"
    }
   ],
   "source": [
    "s[:10].plot(kind='hist')"
   ]
  },
  {
   "cell_type": "code",
   "execution_count": 19,
   "metadata": {},
   "outputs": [
    {
     "data": {
      "text/plain": [
       "0        -0.055014\n",
       "1         0.227295\n",
       "2         0.236626\n",
       "3         0.119883\n",
       "4         0.307216\n",
       "            ...   \n",
       "359587    0.019731\n",
       "359588   -0.027352\n",
       "359589    0.055593\n",
       "359590    0.056661\n",
       "359591    0.060575\n",
       "Length: 359539, dtype: float64"
      ]
     },
     "execution_count": 19,
     "metadata": {},
     "output_type": "execute_result"
    }
   ],
   "source": [
    "s[s.abs() < 1]"
   ]
  },
  {
   "cell_type": "code",
   "execution_count": 22,
   "metadata": {},
   "outputs": [
    {
     "data": {
      "text/plain": [
       "<matplotlib.axes._subplots.AxesSubplot at 0x7fcfd8754630>"
      ]
     },
     "execution_count": 22,
     "metadata": {},
     "output_type": "execute_result"
    },
    {
     "data": {
      "image/png": "[encoded data removed]",
      "text/plain": [
       "<Figure size 1080x360 with 1 Axes>"
      ]
     },
     "metadata": {
      "needs_background": "light"
     },
     "output_type": "display_data"
    }
   ],
   "source": [
    "s = pd.Series(a)\n",
    "s = s[s.abs() < 0.251]\n",
    "s.plot(kind='hist', bins=100, figsize=(15, 5))"
   ]
  },
  {
   "cell_type": "code",
   "execution_count": 6,
   "metadata": {},
   "outputs": [
    {
     "data": {
      "text/plain": [
       "'torch.FloatTensor'"
      ]
     },
     "execution_count": 6,
     "metadata": {},
     "output_type": "execute_result"
    }
   ],
   "source": [
    "i.type()"
   ]
  },
  {
   "cell_type": "code",
   "execution_count": 9,
   "metadata": {},
   "outputs": [
    {
     "name": "stdout",
     "output_type": "stream",
     "text": [
      "forward cost 0.015173358917236328 ms\n"
     ]
    }
   ],
   "source": [
    "# hot\n",
    "loop_count = 100\n",
    "for i in range(10):\n",
    "    net(data)\n",
    "\n",
    "tic = time.time()\n",
    "for i in range(loop_count):\n",
    "    net(data)\n",
    "print(f'forward cost {(time.time() - tic) / loop_count} ms')\n",
    "    "
   ]
  },
  {
   "cell_type": "code",
   "execution_count": 17,
   "metadata": {},
   "outputs": [],
   "source": [
    "torch.save(net.state_dict(),'model-slim.pth')"
   ]
  },
  {
   "cell_type": "code",
   "execution_count": 19,
   "metadata": {},
   "outputs": [],
   "source": [
    "import numpy as np"
   ]
  },
  {
   "cell_type": "code",
   "execution_count": 20,
   "metadata": {},
   "outputs": [],
   "source": [
    "a = np.ones((1,2))"
   ]
  },
  {
   "cell_type": "code",
   "execution_count": null,
   "metadata": {},
   "outputs": [],
   "source": [
    "a.to"
   ]
  }
 ],
 "metadata": {
  "kernelspec": {
   "display_name": "Python 3",
   "language": "python",
   "name": "python3"
  },
  "language_info": {
   "codemirror_mode": {
    "name": "ipython",
    "version": 3
   },
   "file_extension": ".py",
   "mimetype": "text/x-python",
   "name": "python",
   "nbconvert_exporter": "python",
   "pygments_lexer": "ipython3",
   "version": "3.7.3"
  }
 },
 "nbformat": 4,
 "nbformat_minor": 4
}
